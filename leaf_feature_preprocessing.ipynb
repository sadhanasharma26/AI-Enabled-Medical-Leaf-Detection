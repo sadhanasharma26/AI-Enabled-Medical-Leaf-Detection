{
  "nbformat": 4,
  "nbformat_minor": 0,
  "metadata": {
    "colab": {
      "provenance": [],
      "collapsed_sections": []
    },
    "kernelspec": {
      "name": "python3",
      "display_name": "Python 3"
    },
    "language_info": {
      "name": "python"
    }
  },
  "cells": [
    {
      "cell_type": "code",
      "execution_count": 1,
      "metadata": {
        "id": "bO61W_u0SbY5"
      },
      "outputs": [],
      "source": [
        "#importing the necessary modules for data preprocessing\n",
        "\n",
        "import numpy as np\n",
        "import matplotlib.pyplot as plt\n",
        "import pandas as pd\n",
        "from sklearn.impute import SimpleImputer  #used to fill missing data\n",
        "from sklearn.compose import ColumnTransformer\n",
        "from sklearn.preprocessing import OneHotEncoder  #both used for encoding\n",
        "from sklearn.preprocessing import LabelEncoder  \n",
        "from sklearn.model_selection import train_test_split  #spliting data for train and test\n",
        "from sklearn.preprocessing import StandardScaler  #used for feature scaling\n"
      ]
    },
    {
      "cell_type": "code",
      "source": [
        "from google.colab import drive\n",
        "drive.mount('/content/drive')"
      ],
      "metadata": {
        "colab": {
          "base_uri": "https://localhost:8080/"
        },
        "id": "thFb0krsHEAm",
        "outputId": "ffc2c5ec-07eb-45c6-93b2-456d5a58dafc"
      },
      "execution_count": null,
      "outputs": [
        {
          "output_type": "stream",
          "name": "stdout",
          "text": [
            "Drive already mounted at /content/drive; to attempt to forcibly remount, call drive.mount(\"/content/drive\", force_remount=True).\n"
          ]
        }
      ]
    },
    {
      "cell_type": "code",
      "source": [
        "#imported dataset\n",
        "\n",
        "dataset = pd.read_csv('./drive/MyDrive/AI enabled Leaf Detection /leaf_features.csv')\n",
        "x = dataset.iloc[:, :-1].values  #created the matrix of features\n",
        "y = dataset.iloc[:, -1].values   #created dependent variable vector\n"
      ],
      "metadata": {
        "id": "Txb1KUOKaKVR"
      },
      "execution_count": null,
      "outputs": []
    },
    {
      "cell_type": "code",
      "source": [
        "#Filled the missing data with mean values\n",
        "\n",
        "imputer = SimpleImputer(missing_values=np.nan, strategy='mean')   \n",
        "imputer.fit(x[:, 1:])                                                                                           \n",
        "x[:, 1:] = imputer.transform(x[:, 1:])\n"
      ],
      "metadata": {
        "id": "1SkAMMTdaEha"
      },
      "execution_count": null,
      "outputs": []
    },
    {
      "cell_type": "code",
      "source": [
        "#encoded the dependent variable i.e. first column\n",
        "\n",
        "ct = ColumnTransformer(transformers=[('encoder', OneHotEncoder(), [0])], remainder='passthrough')\n",
        "x = np.array(ct.fit_transform(x))   \n"
      ],
      "metadata": {
        "id": "ibc14ZDZkMbR"
      },
      "execution_count": null,
      "outputs": []
    },
    {
      "cell_type": "code",
      "source": [
        "print(x)"
      ],
      "metadata": {
        "colab": {
          "base_uri": "https://localhost:8080/"
        },
        "id": "baUfOK7PV1SN",
        "outputId": "231398cf-9597-4dba-b621-b2b0db9f0770"
      },
      "execution_count": null,
      "outputs": [
        {
          "output_type": "stream",
          "name": "stdout",
          "text": [
            "[[1.0 0.0 0.0 ... 1021.0 0.690386652 -0.41530749]\n",
            " [1.0 0.0 0.0 ... 624.0 0.721623922 -0.721623922]\n",
            " [1.0 0.0 0.0 ... 1459.0 0.581762223 -0.227531757]\n",
            " ...\n",
            " [0.0 0.0 0.0 ... 1100.0 0.479663901 -0.197560266]\n",
            " [0.0 0.0 0.0 ... 1550.0 0.463163762 -0.106349798]\n",
            " [0.0 0.0 0.0 ... 1117.0 0.543434381 -0.200151951]]\n"
          ]
        }
      ]
    },
    {
      "cell_type": "code",
      "source": [
        "le = LabelEncoder()    \n",
        "y = le.fit_transform(y)       #labelled the dependent variable"
      ],
      "metadata": {
        "id": "SBVAneEXbDrc"
      },
      "execution_count": null,
      "outputs": []
    },
    {
      "cell_type": "code",
      "source": [
        "print(y)"
      ],
      "metadata": {
        "id": "eSvewWDJZ7h8",
        "colab": {
          "base_uri": "https://localhost:8080/"
        },
        "outputId": "6430431c-62d4-4991-f0ee-bbd7c608de50"
      },
      "execution_count": null,
      "outputs": [
        {
          "output_type": "stream",
          "name": "stdout",
          "text": [
            "[0 0 0 0 0 0 0 0 0 0 0 0 0 0 0 0 0 0 0 0 0 0 0 0 0 0 0 0 0 0 0 0 0 0 0 0 0\n",
            " 0 0 0 0 0 0 0 0 0 0 0 0 0 0 0 0 0 0 0 0 0 0 0 0 0 0 0 0 0 0 0 0 0 0 0 0 0\n",
            " 0 0 0 0 0 0 0 0 0 0 0 0 0 0 0 0 0 0 0 0 0 0 0 0 0 0 0 0 0 0 0 0 0 0 0 0 0\n",
            " 0 0 0 0 0 0 0 0 0 0 0 0 0 0 0 0 0 0 0 0 0 0 0 0 0 0 0 0 0 0 0 0 0 0 0 0 0\n",
            " 0 0 0 0 0 0 0 0 0 0 0 1 1 1 1 1 1 1 1 1 1 1 1 1 1 1 1 1 1 1 1 1 1 1 1 1 1\n",
            " 1 1 1 1 1 1 1 1 1 1 1 1 1 1 1 1 1 1 1 1 1 1 1 1 1 1 1 1 1 1 1 1 1 1 1 1 1\n",
            " 1 1 1 1 1 1 1 1 1 1 1 1 1 1 1 1 1 1 1 1 1 1 1 1 1 1 2 2 2 2 2 2 2 2 2 2 2\n",
            " 2 2 2 2 2 2 2 2 2 2 2 2 2 2 2 2 2 2 2 2 2 2 2 2 2 2 2 2 2 2 2 2 2 2 2 2 2\n",
            " 2 2 2 2 2 2 2 2 2 2 2 2 2 2 2 2 2 2 2 2 2 2 2 2 2 2 2 2 2 2 2 2 2 2 2 2 2\n",
            " 2 2 2 2 2 2 2 2 2 2 2 2 2 2 2 2 2 2 2 2 2 2 2 2 2 2 2 2 2 2 2 2 2 2 2 2 2\n",
            " 2 2 2 2 2 2 2 2 2 3 3 3 3 3 3 3 3 3 3 3 3 3 3 3 3 3 3 3 3 3 3 3 3 3 3 3 3\n",
            " 3 3 3 3 3 3 3 3 3 3 3 3 3 3 3 3 3 3 3 3 3 3 3 3 3 3 3 3 3 3 3 3 3 3 3 3 3\n",
            " 3 3 3 3 3 3 3 3 4 4 4 4 4 4 4 4 4 4 4 4 4 4 4 4 4 4 4 4 4 4 4 4 4 4 4 4 4\n",
            " 4 4 4 4 4 4 4 4 4 4 4 4 4 4 4 4 4 4 4 4 4 4 4 4 4]\n"
          ]
        }
      ]
    },
    {
      "cell_type": "code",
      "source": [
        "#splitted data into training and testing set\n",
        "\n",
        "x_train, x_test, y_train, y_test = train_test_split(x, y, test_size = 0.2, random_state = 1)\n"
      ],
      "metadata": {
        "id": "aWhuCSW_mo43"
      },
      "execution_count": null,
      "outputs": []
    },
    {
      "cell_type": "code",
      "source": [
        "#feature scaling\n",
        "\n",
        "sc = StandardScaler()        #standadize values\n",
        "x_train[:, 1:] = sc.fit_transform(x_train[:, 1:])  #we dont apply the feature scaling on dummy variable\n",
        "x_test[:, 1:] = sc.transform(x_test[:, 1:])\n"
      ],
      "metadata": {
        "id": "-exquh1WbUka"
      },
      "execution_count": null,
      "outputs": []
    },
    {
      "cell_type": "code",
      "source": [
        "from sklearn.ensemble import RandomForestClassifier\n",
        "classifier = RandomForestClassifier(n_estimators = 10, criterion = 'entropy', random_state = 0)\n",
        "classifier.fit(x_train, y_train)"
      ],
      "metadata": {
        "colab": {
          "base_uri": "https://localhost:8080/"
        },
        "id": "6ZLtIjokcOju",
        "outputId": "b8d089cc-69c4-4572-d34e-64c94bfa0b0e"
      },
      "execution_count": null,
      "outputs": [
        {
          "output_type": "execute_result",
          "data": {
            "text/plain": [
              "RandomForestClassifier(criterion='entropy', n_estimators=10, random_state=0)"
            ]
          },
          "metadata": {},
          "execution_count": 66
        }
      ]
    },
    {
      "cell_type": "code",
      "source": [
        "x_test"
      ],
      "metadata": {
        "colab": {
          "base_uri": "https://localhost:8080/"
        },
        "id": "o6-V6AIYgAeD",
        "outputId": "e558f549-1f29-45bc-8806-293bad9fc965"
      },
      "execution_count": null,
      "outputs": [
        {
          "output_type": "execute_result",
          "data": {
            "text/plain": [
              "array([[0.0, 1.709482406194161, -0.46175016319781886, ...,\n",
              "        -0.003154159816022185, 0.7116430955482006, -0.028117131235538627],\n",
              "       [0.0, 1.709482406194161, -0.46175016319781886, ...,\n",
              "        -1.6573709745505523, 0.003511280651565153, -0.9549516150212783],\n",
              "       [1.0, -0.5849723848438491, -0.46175016319781886, ...,\n",
              "        -0.8185229639819455, 0.8655966424082526, -1.3183963393155111],\n",
              "       ...,\n",
              "       [1.0, -0.5849723848438491, -0.46175016319781886, ...,\n",
              "        0.9317451496726542, -0.1407353296008395, 0.6883347273048789],\n",
              "       [0.0, -0.5849723848438491, -0.46175016319781886, ...,\n",
              "        1.0534101283047423, 0.9520207734820672, 0.3894063888393145],\n",
              "       [0.0, -0.5849723848438491, -0.46175016319781886, ...,\n",
              "        0.9573588293846728, 1.3282700222740058, 0.015113479771049468]],\n",
              "      dtype=object)"
            ]
          },
          "metadata": {},
          "execution_count": 67
        }
      ]
    },
    {
      "cell_type": "code",
      "source": [
        "y_pred = classifier.predict(x_test)\n",
        "y_pred"
      ],
      "metadata": {
        "colab": {
          "base_uri": "https://localhost:8080/"
        },
        "id": "xusuf1kycuwb",
        "outputId": "6d6cba00-a37e-483d-e1a0-8e64b0ae5d42"
      },
      "execution_count": null,
      "outputs": [
        {
          "output_type": "execute_result",
          "data": {
            "text/plain": [
              "array([2, 2, 0, 0, 2, 0, 2, 0, 1, 0, 4, 2, 0, 0, 2, 3, 2, 1, 1, 0, 2, 0,\n",
              "       2, 2, 0, 3, 0, 2, 2, 3, 2, 1, 1, 3, 2, 4, 3, 0, 3, 4, 2, 2, 1, 4,\n",
              "       4, 3, 1, 3, 1, 0, 4, 1, 0, 1, 4, 0, 3, 2, 0, 1, 3, 0, 3, 3, 1, 1,\n",
              "       1, 2, 2, 1, 2, 3, 2, 0, 0, 4, 2, 2, 1, 2, 0, 0, 1, 3, 2, 2, 3, 2,\n",
              "       4, 0, 4, 2, 4, 0, 3, 0, 4, 0, 1, 0, 3, 3])"
            ]
          },
          "metadata": {},
          "execution_count": 68
        }
      ]
    },
    {
      "cell_type": "code",
      "source": [
        "from sklearn.metrics import confusion_matrix, accuracy_score\n",
        "cm = confusion_matrix(y_test, y_pred)\n",
        "print(cm)\n",
        "accuracy_score(y_test, y_pred)"
      ],
      "metadata": {
        "colab": {
          "base_uri": "https://localhost:8080/"
        },
        "id": "r9ZBuCl5eiXq",
        "outputId": "84a3ed0b-b064-4609-92e0-fff629226240"
      },
      "execution_count": null,
      "outputs": [
        {
          "output_type": "stream",
          "name": "stdout",
          "text": [
            "[[26  0  0  0  0]\n",
            " [ 0 18  0  0  0]\n",
            " [ 0  0 28  0  0]\n",
            " [ 0  0  0 18  0]\n",
            " [ 0  0  0  0 12]]\n"
          ]
        },
        {
          "output_type": "execute_result",
          "data": {
            "text/plain": [
              "1.0"
            ]
          },
          "metadata": {},
          "execution_count": 69
        }
      ]
    },
    {
      "cell_type": "code",
      "source": [
        "from sklearn.ensemble import RandomForestClassifier\n",
        "\n",
        "model = RandomForestClassifier(n_estimators = 10, random_state = 42)\n",
        "\n",
        "model.fit(x_train, y_train)\n",
        "\n",
        "pred_test = model.predict(x_test)\n",
        "print(pred_test)"
      ],
      "metadata": {
        "id": "RtVNnbKODjlk",
        "colab": {
          "base_uri": "https://localhost:8080/"
        },
        "outputId": "824e6871-fe48-48dc-9a5b-96edec6ebe9c"
      },
      "execution_count": null,
      "outputs": [
        {
          "output_type": "stream",
          "name": "stdout",
          "text": [
            "[2 2 0 0 2 0 2 0 1 0 4 2 0 0 2 3 2 1 1 0 2 0 2 2 0 3 0 2 2 3 2 1 1 3 2 4 3\n",
            " 0 3 4 2 2 1 4 4 3 1 3 1 0 4 1 0 1 4 0 3 2 0 1 3 0 3 3 1 1 1 2 2 1 2 3 2 0\n",
            " 0 4 2 2 1 2 0 0 1 3 2 2 3 2 4 0 4 2 4 0 3 0 4 0 1 0 3 3]\n"
          ]
        }
      ]
    },
    {
      "cell_type": "code",
      "source": [
        "from sklearn import metrics\n",
        "print('accuracy = ', metrics.accuracy_score(y_test, pred_test))"
      ],
      "metadata": {
        "colab": {
          "base_uri": "https://localhost:8080/"
        },
        "id": "JR4o-ORrgh4B",
        "outputId": "a0ba8f60-677a-4bcd-c1cf-06d76013cfaf"
      },
      "execution_count": null,
      "outputs": [
        {
          "output_type": "stream",
          "name": "stdout",
          "text": [
            "accuracy =  1.0\n"
          ]
        }
      ]
    },
    {
      "cell_type": "code",
      "source": [],
      "metadata": {
        "id": "PK1ieMU1giVB"
      },
      "execution_count": null,
      "outputs": []
    }
  ]
}